{
 "cells": [
  {
   "cell_type": "code",
   "execution_count": null,
   "metadata": {},
   "outputs": [],
   "source": [
    "import numpy as np\n",
    "import matplotlib.pyplot as plt\n",
    "from matplotlib.colors import LinearSegmentedColormap\n",
    "import torch\n",
    "import torch.nn as nn\n",
    "import torch.nn.functional as F"
   ]
  },
  {
   "cell_type": "code",
   "execution_count": null,
   "metadata": {},
   "outputs": [],
   "source": [
    "def double_gyre_flow(x, y, t, A=0.1, omega=2*np.pi/10, epsilon=0.25):\n",
    "    \"\"\"\n",
    "    Double-gyre flow field that varies with time\n",
    "    Parameters:\n",
    "        x, y: spatial coordinates (0 to 2 for x, 0 to 1 for y)\n",
    "        t: time\n",
    "        A: amplitude\n",
    "        omega: frequency\n",
    "        epsilon: strength of time-dependence\n",
    "    \"\"\"\n",
    "    a = epsilon * np.sin(omega * t)\n",
    "    b = 1 - 2 * a\n",
    "    \n",
    "    f = a * x**2 + b * x\n",
    "    df_dx = 2 * a * x + b\n",
    "    \n",
    "    u = -np.pi * A * np.sin(np.pi * f) * np.cos(np.pi * y)\n",
    "    v = np.pi * A * np.cos(np.pi * f) * np.sin(np.pi * y) * df_dx\n",
    "    \n",
    "    return np.stack([u, v], axis=-1)"
   ]
  }
 ],
 "metadata": {
  "kernelspec": {
   "display_name": "Python 3",
   "language": "python",
   "name": "python3"
  },
  "language_info": {
   "name": "python",
   "version": "3.9.19"
  }
 },
 "nbformat": 4,
 "nbformat_minor": 2
}
