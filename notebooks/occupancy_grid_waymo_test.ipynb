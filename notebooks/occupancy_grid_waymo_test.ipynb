{
 "cells": [
  {
   "cell_type": "code",
   "execution_count": null,
   "id": "18c130a8",
   "metadata": {},
   "outputs": [],
   "source": [
    "import sys\n",
    "import os\n",
    "import torch\n",
    "from torch.utils.data import DataLoader\n",
    "import torch.nn.functional as F\n",
    "from IPython.display import display, HTML\n",
    "from collections import defaultdict\n",
    "sys.path.append(os.path.abspath(os.path.join(os.path.dirname(\"__file__\"), '..')))\n",
    "from datasets.Waymo import WaymoDataset, waymo_collate_fn\n",
    "from model import OccupancyFlowNetwork\n",
    "from visualize import render_observed_scene_state, render_ground_truth_occupancy"
   ]
  },
  {
   "cell_type": "code",
   "execution_count": null,
   "id": "34dcfab9",
   "metadata": {},
   "outputs": [],
   "source": [
    "NUM_SCENES = 1#16#25\n",
    "MAX_SCENES_TO_RENDER = 1\n",
    "\n",
    "tfrecord_path = '../../data1/waymo_dataset/v1.1/waymo_open_dataset_motion_v_1_1_0/uncompressed/tf_example/validation'\n",
    "idx_path = '../../data1/waymo_dataset/v1.1/idx/validation'\n",
    "dataset = WaymoDataset(tfrecord_path, idx_path)\n",
    "dataloader = DataLoader(dataset, batch_size=NUM_SCENES, collate_fn=waymo_collate_fn)\n",
    "\n",
    "road_map, agent_trajectories, \\\n",
    "flow_field_agent_ids, flow_field_positions, flow_field_times, flow_field_velocities, \\\n",
    "occupancy_grid_positions, occupancy_grid_times, occupancy_grid_occupancies, occupancy_grid_occluded_occupancies, \\\n",
    "agent_mask, flow_field_mask =  next(iter(dataloader))"
   ]
  },
  {
   "cell_type": "code",
   "execution_count": null,
   "id": "7037fe4f",
   "metadata": {},
   "outputs": [],
   "source": [
    "render_observed_scene_state(road_map[0], agent_trajectories[0])"
   ]
  },
  {
   "cell_type": "code",
   "execution_count": null,
   "id": "6c9afc9f",
   "metadata": {},
   "outputs": [],
   "source": [
    "anim = render_ground_truth_occupancy(road_map[0], occupancy_grid_occupancies[0])\n",
    "display(HTML(anim.to_jshtml()))"
   ]
  },
  {
   "cell_type": "code",
   "execution_count": null,
   "id": "65400ac2",
   "metadata": {},
   "outputs": [],
   "source": [
    "anim = render_ground_truth_occupancy(road_map[0], occupancy_grid_occluded_occupancies[0])\n",
    "display(HTML(anim.to_jshtml()))"
   ]
  }
 ],
 "metadata": {
  "kernelspec": {
   "display_name": "ofenv (3.11.0)",
   "language": "python",
   "name": "python3"
  },
  "language_info": {
   "codemirror_mode": {
    "name": "ipython",
    "version": 3
   },
   "file_extension": ".py",
   "mimetype": "text/x-python",
   "name": "python",
   "nbconvert_exporter": "python",
   "pygments_lexer": "ipython3",
   "version": "3.11.0rc1"
  }
 },
 "nbformat": 4,
 "nbformat_minor": 5
}
